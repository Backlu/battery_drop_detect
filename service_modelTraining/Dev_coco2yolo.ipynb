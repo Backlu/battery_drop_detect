{
 "cells": [
  {
   "cell_type": "markdown",
   "metadata": {},
   "source": [
    "# YOLO Model - COCO2YOLO\n",
    "ref: https://hackmd.io/@Yvonne/Hk0NxtcX5"
   ]
  },
  {
   "cell_type": "code",
   "execution_count": 20,
   "metadata": {},
   "outputs": [
    {
     "name": "stdout",
     "output_type": "stream",
     "text": [
      "The autoreload extension is already loaded. To reload it, use:\n",
      "  %reload_ext autoreload\n"
     ]
    }
   ],
   "source": [
    "%load_ext autoreload\n",
    "%autoreload 2\n",
    "import sys\n",
    "sys.path.append('.')\n",
    "sys.path.append('..')\n",
    "import logging\n",
    "from service_modelTraining.coco2yolo import coco2yolo,generate_yolo_data_txt\n",
    "from common.log import init_logging\n",
    "init_logging('coco2yolo')\n",
    "\n",
    "\n"
   ]
  },
  {
   "cell_type": "markdown",
   "metadata": {},
   "source": [
    "### 準備資料\n",
    "- 前置作業\n",
    "    - 已標注資料須先放到model folder: /mnt/hdd1/Data/f45movement/0_not_train_labels\n",
    "    - 並執行coco2yolo, 將coco label轉換成maskrcnn可使用的格式\n",
    "- 預設label路徑:\n",
    "    - /mnt/hdd1/Data/f45movement/f45_label_YOLO\n",
    "    - 程式會預設讀預設路徑下的所有label txt file"
   ]
  },
  {
   "cell_type": "markdown",
   "metadata": {},
   "source": [
    "**Step 3.1: transform json COCO format to txt**"
   ]
  },
  {
   "cell_type": "code",
   "execution_count": 29,
   "metadata": {
    "scrolled": true
   },
   "outputs": [
    {
     "name": "stdout",
     "output_type": "stream",
     "text": [
      "label transform folder: /mnt/hdd1/Data/f45movement/0_not_train_labels\n",
      "/mnt/hdd1/Data/f45movement/f45_output/0414/F45_5L10/F45_5L10_2022-04-14-03-13-02.0.jpg\n",
      "/mnt/hdd1/Data/f45movement/f45_output/0414/F45_5L10/F45_5L10_2022-04-14-03-20-01.2.jpg\n",
      "/mnt/hdd1/Data/f45movement/f45_output/0414/F45_5L10/F45_5L10_2022-04-14-03-25-35.2.jpg\n",
      "/mnt/hdd1/Data/f45movement/f45_output/0414/F45_5L10/F45_5L10_2022-04-14-03-50-28.1.jpg\n",
      "/mnt/hdd1/Data/f45movement/f45_output/0414/F45_5L10/F45_5L10_2022-04-14-05-52-34.0.jpg\n",
      "/mnt/hdd1/Data/f45movement/f45_output/0414/F45_5L10/F45_5L10_2022-04-14-06-13-37.7.jpg\n",
      "/mnt/hdd1/Data/f45movement/f45_output/0414/F45_5L10/F45_5L10_2022-04-14-07-16-11.7.jpg\n",
      "/mnt/hdd1/Data/f45movement/f45_output/0414/F45_5L10/F45_5L10_2022-04-14-08-18-19.4.jpg\n",
      "/mnt/hdd1/Data/f45movement/f45_output/0414/F45_5L10/F45_5L10_2022-04-14-08-59-29.6.jpg\n",
      "/mnt/hdd1/Data/f45movement/f45_output/0414/F45_5L10/F45_5L10_2022-04-14-09-25-13.5.jpg\n",
      "/mnt/hdd1/Data/f45movement/f45_output/0414/F45_5L10/F45_5L10_2022-04-14-09-32-12.1.jpg\n",
      "/mnt/hdd1/Data/f45movement/f45_output/0414/F45_5L10/F45_5L10_2022-04-14-10-35-24.0.jpg\n",
      "/mnt/hdd1/Data/f45movement/f45_output/0414/F45_5L10/F45_5L10_2022-04-14-11-00-13.5.jpg\n",
      "/mnt/hdd1/Data/f45movement/f45_output/0414/F45_5L10/F45_5L10_2022-04-14-11-01-19.4.jpg\n",
      "/mnt/hdd1/Data/f45movement/f45_output/0414/F45_5L10/F45_5L10_2022-04-14-12-54-20.6.jpg\n",
      "/mnt/hdd1/Data/f45movement/f45_output/0414/F45_5L10/F45_5L10_2022-04-14-13-15-35.1.jpg\n",
      "/mnt/hdd1/Data/f45movement/f45_output/0413/F45_5L2/F45_5L2_2022-04-13-00-34-52.8.jpg\n",
      "/mnt/hdd1/Data/f45movement/f45_output/0413/F45_5L2/F45_5L2_2022-04-13-02-29-19.1.jpg\n",
      "/mnt/hdd1/Data/f45movement/f45_output/0413/F45_5L2/F45_5L2_2022-04-13-03-21-12.4.jpg\n",
      "/mnt/hdd1/Data/f45movement/f45_output/0413/F45_5L2/F45_5L2_2022-04-13-05-34-22.3.jpg\n",
      "/mnt/hdd1/Data/f45movement/f45_output/0413/F45_5L2/F45_5L2_2022-04-13-06-17-45.4.jpg\n",
      "/mnt/hdd1/Data/f45movement/f45_output/0413/F45_5L2/F45_5L2_2022-04-13-06-25-51.2.jpg\n",
      "/mnt/hdd1/Data/f45movement/f45_output/0413/F45_5L2/F45_5L2_2022-04-13-08-04-28.4.jpg\n",
      "/mnt/hdd1/Data/f45movement/f45_output/0413/F45_5L4/F45_5L4_2022-04-13-00-05-49.6.jpg\n",
      "/mnt/hdd1/Data/f45movement/f45_output/0413/F45_5L4/F45_5L4_2022-04-13-00-06-04.8.jpg\n",
      "/mnt/hdd1/Data/f45movement/f45_output/0413/F45_5L4/F45_5L4_2022-04-13-00-38-54.9.jpg\n",
      "/mnt/hdd1/Data/f45movement/f45_output/0413/F45_5L4/F45_5L4_2022-04-13-00-46-08.7.jpg\n",
      "/mnt/hdd1/Data/f45movement/f45_output/0413/F45_5L4/F45_5L4_2022-04-13-01-18-35.9.jpg\n",
      "/mnt/hdd1/Data/f45movement/f45_output/0413/F45_5L4/F45_5L4_2022-04-13-05-09-25.5.jpg\n",
      "/mnt/hdd1/Data/f45movement/f45_output/0413/F45_5L4/F45_5L4_2022-04-13-05-21-58.0.jpg\n",
      "/mnt/hdd1/Data/f45movement/f45_output/0413/F45_5L4/F45_5L4_2022-04-13-05-27-54.5.jpg\n",
      "/mnt/hdd1/Data/f45movement/f45_output/0413/F45_5L4/F45_5L4_2022-04-13-05-45-52.4.jpg\n",
      "/mnt/hdd1/Data/f45movement/f45_output/0413/F45_5L4/F45_5L4_2022-04-13-06-21-56.3.jpg\n",
      "/mnt/hdd1/Data/f45movement/f45_output/0413/F45_5L4/F45_5L4_2022-04-13-07-11-32.8.jpg\n",
      "/mnt/hdd1/Data/f45movement/f45_output/0414/F45_5L2/F45_5L2_2022-04-14-03-26-42.5.jpg\n",
      "/mnt/hdd1/Data/f45movement/f45_output/0414/F45_5L2/F45_5L2_2022-04-14-03-58-27.3.jpg\n",
      "/mnt/hdd1/Data/f45movement/f45_output/0414/F45_5L2/F45_5L2_2022-04-14-05-27-44.5.jpg\n",
      "/mnt/hdd1/Data/f45movement/f45_output/0414/F45_5L2/F45_5L2_2022-04-14-08-59-51.8.jpg\n",
      "/mnt/hdd1/Data/f45movement/f45_output/0414/F45_5L2/F45_5L2_2022-04-14-09-30-59.6.jpg\n",
      "/mnt/hdd1/Data/f45movement/f45_output/0414/F45_5L2/F45_5L2_2022-04-14-09-57-11.3.jpg\n",
      "/mnt/hdd1/Data/f45movement/f45_output/0414/F45_5L2/F45_5L2_2022-04-14-10-19-07.3.jpg\n",
      "/mnt/hdd1/Data/f45movement/f45_output/0414/F45_5L2/F45_5L2_2022-04-14-10-19-26.5.jpg\n",
      "/mnt/hdd1/Data/f45movement/f45_output/0414/F45_5L2/F45_5L2_2022-04-14-10-27-32.1.jpg\n",
      "/mnt/hdd1/Data/f45movement/f45_output/0414/F45_5L2/F45_5L2_2022-04-14-10-40-56.2.jpg\n",
      "/mnt/hdd1/Data/f45movement/f45_output/0414/F45_5L2/F45_5L2_2022-04-14-10-47-59.5.jpg\n",
      "/mnt/hdd1/Data/f45movement/f45_output/0414/F45_5L2/F45_5L2_2022-04-14-12-38-04.6.jpg\n",
      "/mnt/hdd1/Data/f45movement/f45_output/0414/F45_5L2/F45_5L2_2022-04-14-13-09-42.9.jpg\n",
      "/mnt/hdd1/Data/f45movement/f45_output/0414/F45_5L3/F45_5L3_2022-04-14-00-19-03.3.jpg\n",
      "/mnt/hdd1/Data/f45movement/f45_output/0414/F45_5L3/F45_5L3_2022-04-14-00-27-39.8.jpg\n",
      "/mnt/hdd1/Data/f45movement/f45_output/0414/F45_5L3/F45_5L3_2022-04-14-00-45-53.3.jpg\n",
      "/mnt/hdd1/Data/f45movement/f45_output/0414/F45_5L3/F45_5L3_2022-04-14-01-41-29.4.jpg\n",
      "/mnt/hdd1/Data/f45movement/f45_output/0414/F45_5L3/F45_5L3_2022-04-14-02-03-36.2.jpg\n",
      "/mnt/hdd1/Data/f45movement/f45_output/0414/F45_5L3/F45_5L3_2022-04-14-02-28-20.8.jpg\n",
      "/mnt/hdd1/Data/f45movement/f45_output/0414/F45_5L3/F45_5L3_2022-04-14-02-38-55.5.jpg\n",
      "/mnt/hdd1/Data/f45movement/f45_output/0414/F45_5L3/F45_5L3_2022-04-14-02-47-23.2.jpg\n",
      "/mnt/hdd1/Data/f45movement/f45_output/0414/F45_5L3/F45_5L3_2022-04-14-03-16-19.9.jpg\n",
      "/mnt/hdd1/Data/f45movement/f45_output/0414/F45_5L3/F45_5L3_2022-04-14-04-26-35.8.jpg\n",
      "/mnt/hdd1/Data/f45movement/f45_output/0414/F45_5L3/F45_5L3_2022-04-14-05-16-54.5.jpg\n",
      "/mnt/hdd1/Data/f45movement/f45_output/0414/F45_5L3/F45_5L3_2022-04-14-06-41-32.9.jpg\n",
      "/mnt/hdd1/Data/f45movement/f45_output/0414/F45_5L3/F45_5L3_2022-04-14-06-50-02.5.jpg\n",
      "/mnt/hdd1/Data/f45movement/f45_output/0414/F45_5L3/F45_5L3_2022-04-14-07-09-49.9.jpg\n",
      "/mnt/hdd1/Data/f45movement/f45_output/0414/F45_5L3/F45_5L3_2022-04-14-08-25-24.0.jpg\n",
      "/mnt/hdd1/Data/f45movement/f45_output/0414/F45_5L3/F45_5L3_2022-04-14-08-28-17.7.jpg\n",
      "/mnt/hdd1/Data/f45movement/f45_output/0414/F45_5L3/F45_5L3_2022-04-14-08-45-16.1.jpg\n",
      "/mnt/hdd1/Data/f45movement/f45_output/0414/F45_5L3/F45_5L3_2022-04-14-09-26-19.5.jpg\n",
      "/mnt/hdd1/Data/f45movement/f45_output/0414/F45_5L3/F45_5L3_2022-04-14-10-19-54.2.jpg\n",
      "/mnt/hdd1/Data/f45movement/f45_output/0414/F45_5L3/F45_5L3_2022-04-14-10-47-15.5.jpg\n",
      "/mnt/hdd1/Data/f45movement/f45_output/0413/F45_5L12/F45_5L12_2022-04-13-08-49-09.4.jpg\n",
      "/mnt/hdd1/Data/f45movement/f45_output/0413/F45_5L12/F45_5L12_2022-04-13-09-46-20.0.jpg\n",
      "/mnt/hdd1/Data/f45movement/f45_output/0413/F45_5L12/F45_5L12_2022-04-13-10-22-45.5.jpg\n",
      "/mnt/hdd1/Data/f45movement/f45_output/0413/F45_5L12/F45_5L12_2022-04-13-12-20-58.2.jpg\n",
      "/mnt/hdd1/Data/f45movement/f45_output/0414/F45_5L7/F45_5L7_2022-04-14-08-22-44.9.jpg\n",
      "/mnt/hdd1/Data/f45movement/f45_output/0414/F45_5L7/F45_5L7_2022-04-14-08-28-27.1.jpg\n",
      "/mnt/hdd1/Data/f45movement/f45_output/0413/F45_5L5/F45_5L5_2022-04-13-00-11-14.8.jpg\n",
      "/mnt/hdd1/Data/f45movement/f45_output/0413/F45_5L5/F45_5L5_2022-04-13-00-42-33.4.jpg\n",
      "/mnt/hdd1/Data/f45movement/f45_output/0413/F45_5L5/F45_5L5_2022-04-13-02-15-16.6.jpg\n",
      "/mnt/hdd1/Data/f45movement/f45_output/0413/F45_5L5/F45_5L5_2022-04-13-05-32-12.7.jpg\n",
      "/mnt/hdd1/Data/f45movement/f45_output/0413/F45_5L5/F45_5L5_2022-04-13-05-41-50.3.jpg\n",
      "/mnt/hdd1/Data/f45movement/f45_output/0413/F45_5L5/F45_5L5_2022-04-13-05-45-44.4.jpg\n",
      "/mnt/hdd1/Data/f45movement/f45_output/0413/F45_5L5/F45_5L5_2022-04-13-07-09-18.0.jpg\n",
      "/mnt/hdd1/Data/f45movement/f45_output/0413/F45_5L13/F45_5L13_2022-04-13-08-17-12.2.jpg\n",
      "/mnt/hdd1/Data/f45movement/f45_output/0413/F45_5L13/F45_5L13_2022-04-13-08-29-05.4.jpg\n",
      "/mnt/hdd1/Data/f45movement/f45_output/0413/F45_5L13/F45_5L13_2022-04-13-08-31-09.5.jpg\n",
      "/mnt/hdd1/Data/f45movement/f45_output/0413/F45_5L13/F45_5L13_2022-04-13-08-40-49.0.jpg\n",
      "/mnt/hdd1/Data/f45movement/f45_output/0413/F45_5L13/F45_5L13_2022-04-13-13-31-41.8.jpg\n",
      "/mnt/hdd1/Data/f45movement/f45_output/0413/F45_5L6/F45_5L6_2022-04-13-01-22-32.1.jpg\n",
      "/mnt/hdd1/Data/f45movement/f45_output/0413/F45_5L6/F45_5L6_2022-04-13-08-49-57.9.jpg\n",
      "/mnt/hdd1/Data/f45movement/f45_output/0413/F45_5L1/raw/F45_5L1_2022-04-13-05-22-34.3.jpg\n",
      "/mnt/hdd1/Data/f45movement/f45_output/0413/F45_5L1/raw/F45_5L1_2022-04-13-05-47-45.9.jpg\n",
      "/mnt/hdd1/Data/f45movement/f45_output/0413/F45_5L1/raw/F45_5L1_2022-04-13-05-47-54.7.jpg\n",
      "/mnt/hdd1/Data/f45movement/f45_output/0413/F45_5L1/raw/F45_5L1_2022-04-13-05-52-43.7.jpg\n",
      "/mnt/hdd1/Data/f45movement/f45_output/0413/F45_5L1/raw/F45_5L1_2022-04-13-06-04-55.3.jpg\n",
      "/mnt/hdd1/Data/f45movement/f45_output/0413/F45_5L1/raw/F45_5L1_2022-04-13-06-57-48.2.jpg\n",
      "/mnt/hdd1/Data/f45movement/f45_output/0413/F45_5L1/raw/F45_5L1_2022-04-13-08-41-54.7.jpg\n",
      "/mnt/hdd1/Data/f45movement/f45_output/0413/F45_5L1/raw/F45_5L1_2022-04-13-08-51-13.8.jpg\n",
      "/mnt/hdd1/Data/f45movement/f45_output/0413/F45_5L1/raw/F45_5L1_2022-04-13-09-11-33.1.jpg\n",
      "/mnt/hdd1/Data/f45movement/f45_output/0413/F45_5L1/raw/F45_5L1_2022-04-13-09-18-22.7.jpg\n",
      "/mnt/hdd1/Data/f45movement/f45_output/0413/F45_5L1/raw/F45_5L1_2022-04-13-09-21-37.5.jpg\n",
      "/mnt/hdd1/Data/f45movement/f45_output/0413/F45_5L1/raw/F45_5L1_2022-04-13-09-24-22.7.jpg\n",
      "/mnt/hdd1/Data/f45movement/f45_output/0413/F45_5L1/raw/F45_5L1_2022-04-13-10-02-34.1.jpg\n",
      "/mnt/hdd1/Data/f45movement/f45_output/0413/F45_5L1/raw/F45_5L1_2022-04-13-10-03-09.8.jpg\n",
      "/mnt/hdd1/Data/f45movement/f45_output/0413/F45_5L1/raw/F45_5L1_2022-04-13-10-18-06.1.jpg\n",
      "/mnt/hdd1/Data/f45movement/f45_output/0413/F45_5L1/raw/F45_5L1_2022-04-13-10-32-04.7.jpg\n",
      "/mnt/hdd1/Data/f45movement/f45_output/0413/F45_5L10/F45_5L10_2022-04-13-00-47-29.9.jpg\n"
     ]
    },
    {
     "name": "stdout",
     "output_type": "stream",
     "text": [
      "/mnt/hdd1/Data/f45movement/f45_output/0413/F45_5L10/F45_5L10_2022-04-13-02-14-13.8.jpg\n",
      "/mnt/hdd1/Data/f45movement/f45_output/0413/F45_5L10/F45_5L10_2022-04-13-02-17-04.6.jpg\n",
      "/mnt/hdd1/Data/f45movement/f45_output/0413/F45_5L10/F45_5L10_2022-04-13-06-51-00.1.jpg\n",
      "/mnt/hdd1/Data/f45movement/f45_output/0413/F45_5L10/F45_5L10_2022-04-13-07-00-59.9.jpg\n",
      "/mnt/hdd1/Data/f45movement/f45_output/0413/F45_5L10/F45_5L10_2022-04-13-08-09-57.4.jpg\n",
      "/mnt/hdd1/Data/f45movement/f45_output/0413/F45_5L10/F45_5L10_2022-04-13-08-13-22.5.jpg\n",
      "/mnt/hdd1/Data/f45movement/f45_output/0413/F45_5L10/F45_5L10_2022-04-13-08-39-45.7.jpg\n",
      "/mnt/hdd1/Data/f45movement/f45_output/0413/F45_5L10/F45_5L10_2022-04-13-08-58-05.0.jpg\n",
      "/mnt/hdd1/Data/f45movement/f45_output/0414/F45_5L4/F45_5L4_2022-04-14-00-06-24.2.jpg\n",
      "/mnt/hdd1/Data/f45movement/f45_output/0414/F45_5L4/F45_5L4_2022-04-14-00-22-40.0.jpg\n",
      "/mnt/hdd1/Data/f45movement/f45_output/0414/F45_5L4/F45_5L4_2022-04-14-00-49-41.1.jpg\n",
      "/mnt/hdd1/Data/f45movement/f45_output/0414/F45_5L4/F45_5L4_2022-04-14-02-14-17.3.jpg\n",
      "/mnt/hdd1/Data/f45movement/f45_output/0414/F45_5L4/F45_5L4_2022-04-14-03-36-24.5.jpg\n",
      "/mnt/hdd1/Data/f45movement/f45_output/0414/F45_5L4/F45_5L4_2022-04-14-03-39-18.0.jpg\n",
      "/mnt/hdd1/Data/f45movement/f45_output/0414/F45_5L4/F45_5L4_2022-04-14-04-09-45.1.jpg\n",
      "/mnt/hdd1/Data/f45movement/f45_output/0414/F45_5L4/F45_5L4_2022-04-14-06-12-30.8.jpg\n",
      "/mnt/hdd1/Data/f45movement/f45_output/0414/F45_5L4/F45_5L4_2022-04-14-06-48-16.4.jpg\n",
      "/mnt/hdd1/Data/f45movement/f45_output/0414/F45_5L4/F45_5L4_2022-04-14-08-11-09.1.jpg\n",
      "/mnt/hdd1/Data/f45movement/f45_output/0414/F45_5L4/F45_5L4_2022-04-14-08-19-23.2.jpg\n",
      "/mnt/hdd1/Data/f45movement/f45_output/0414/F45_5L4/F45_5L4_2022-04-14-09-33-20.4.jpg\n",
      "/mnt/hdd1/Data/f45movement/f45_output/0414/F45_5L4/F45_5L4_2022-04-14-12-52-43.1.jpg\n",
      "/mnt/hdd1/Data/f45movement/f45_output/0413/F45_5L3/F45_5L3_2022-04-13-00-10-41.9.jpg\n",
      "/mnt/hdd1/Data/f45movement/f45_output/0413/F45_5L3/F45_5L3_2022-04-13-01-33-52.1.jpg\n",
      "/mnt/hdd1/Data/f45movement/f45_output/0413/F45_5L3/F45_5L3_2022-04-13-03-05-21.4.jpg\n",
      "/mnt/hdd1/Data/f45movement/f45_output/0413/F45_5L3/F45_5L3_2022-04-13-03-26-50.8.jpg\n",
      "/mnt/hdd1/Data/f45movement/f45_output/0413/F45_5L3/F45_5L3_2022-04-13-03-27-06.7.jpg\n",
      "/mnt/hdd1/Data/f45movement/f45_output/0413/F45_5L3/F45_5L3_2022-04-13-05-16-50.4.jpg\n",
      "/mnt/hdd1/Data/f45movement/f45_output/0413/F45_5L3/F45_5L3_2022-04-13-06-27-17.7.jpg\n",
      "/mnt/hdd1/Data/f45movement/f45_output/0413/F45_5L3/F45_5L3_2022-04-13-08-14-41.6.jpg\n",
      "/mnt/hdd1/Data/f45movement/f45_output/0413/F45_5L3/F45_5L3_2022-04-13-09-04-03.0.jpg\n",
      "/mnt/hdd1/Data/f45movement/f45_output/0413/F45_5L3/F45_5L3_2022-04-13-10-02-27.7.jpg\n",
      "/mnt/hdd1/Data/f45movement/f45_output/0413/F45_5L3/F45_5L3_2022-04-13-10-22-03.7.jpg\n",
      "/mnt/hdd1/Data/f45movement/f45_output/0413/F45_5L3/F45_5L3_2022-04-13-10-36-08.4.jpg\n",
      "/mnt/hdd1/Data/f45movement/f45_output/0413/F45_5L8/F45_5L8_2022-04-13-02-17-34.8.jpg\n",
      "/mnt/hdd1/Data/f45movement/f45_output/0413/F45_5L8/F45_5L8_2022-04-13-02-24-06.1.jpg\n",
      "/mnt/hdd1/Data/f45movement/f45_output/0413/F45_5L8/F45_5L8_2022-04-13-03-38-52.1.jpg\n",
      "/mnt/hdd1/Data/f45movement/f45_output/0413/F45_5L8/F45_5L8_2022-04-13-04-45-12.0.jpg\n",
      "/mnt/hdd1/Data/f45movement/f45_output/0413/F45_5L8/F45_5L8_2022-04-13-05-22-50.0.jpg\n",
      "/mnt/hdd1/Data/f45movement/f45_output/0413/F45_5L8/F45_5L8_2022-04-13-08-28-39.5.jpg\n",
      "/mnt/hdd1/Data/f45movement/f45_output/0413/F45_5L8/F45_5L8_2022-04-13-09-19-14.6.jpg\n",
      "/mnt/hdd1/Data/f45movement/f45_output/0414/F45_5L6/F45_5L6_2022-04-14-00-45-37.3.jpg\n",
      "/mnt/hdd1/Data/f45movement/f45_output/0414/F45_5L6/F45_5L6_2022-04-14-04-07-28.8.jpg\n",
      "/mnt/hdd1/Data/f45movement/f45_output/0414/F45_5L6/F45_5L6_2022-04-14-05-17-38.1.jpg\n",
      "/mnt/hdd1/Data/f45movement/f45_output/0414/F45_5L6/F45_5L6_2022-04-14-06-38-01.1.jpg\n",
      "/mnt/hdd1/Data/f45movement/f45_output/0414/F45_5L6/F45_5L6_2022-04-14-10-11-04.6.jpg\n",
      "/mnt/hdd1/Data/f45movement/f45_output/0414/F45_5L6/F45_5L6_2022-04-14-10-33-01.7.jpg\n",
      "/mnt/hdd1/Data/f45movement/f45_output/0414/F45_5L6/F45_5L6_2022-04-14-12-08-51.9.jpg\n",
      "/mnt/hdd1/Data/f45movement/f45_output/20220415/F45_5L12_2022-04-15-00-14-54.2_NTF.jpg\n",
      "/mnt/hdd1/Data/f45movement/f45_output/20220415/F45_5L12_2022-04-15-04-08-02.0_NTF.jpg\n",
      "/mnt/hdd1/Data/f45movement/f45_output/20220415/F45_5L12_2022-04-15-13-34-33.5_NTF.jpg\n",
      "/mnt/hdd1/Data/f45movement/f45_output/20220415/F45_5L13_2022-04-15-06-06-45.1_NTF.jpg\n",
      "/mnt/hdd1/Data/f45movement/f45_output/20220415/F45_5L3_2022-04-15-00-13-29.4_NTF.jpg\n",
      "/mnt/hdd1/Data/f45movement/f45_output/20220415/F45_5L3_2022-04-15-00-22-46.7_NTF.jpg\n",
      "/mnt/hdd1/Data/f45movement/f45_output/20220415/F45_5L4_2022-04-15-11-01-54.7_NTF.jpg\n",
      "/mnt/hdd1/Data/f45movement/f45_output/20220415/F45_5L5_2022-04-15-00-52-30.7_NTF.jpg\n",
      "/mnt/hdd1/Data/f45movement/f45_output/20220415/F45_5L5_2022-04-15-01-38-30.6_NTF.jpg\n",
      "/mnt/hdd1/Data/f45movement/f45_output/20220415/F45_5L6_2022-04-15-12-10-14.1_NTF.jpg\n",
      "/mnt/hdd1/Data/f45movement/f45_output/20220415/F45_5L6_2022-04-15-15-59-57.9_NTF.jpg\n",
      "/mnt/hdd1/Data/f45movement/f45_output/0414/F45_5L1/F45_5L1_2022-04-14-01-48-46.0.jpg\n",
      "/mnt/hdd1/Data/f45movement/f45_output/0414/F45_5L1/F45_5L1_2022-04-14-02-12-34.6.jpg\n",
      "/mnt/hdd1/Data/f45movement/f45_output/0414/F45_5L1/F45_5L1_2022-04-14-03-11-13.7.jpg\n",
      "/mnt/hdd1/Data/f45movement/f45_output/0414/F45_5L1/F45_5L1_2022-04-14-03-18-40.9.jpg\n",
      "/mnt/hdd1/Data/f45movement/f45_output/0414/F45_5L1/F45_5L1_2022-04-14-03-21-11.3.jpg\n",
      "/mnt/hdd1/Data/f45movement/f45_output/0414/F45_5L1/F45_5L1_2022-04-14-06-12-07.6.jpg\n",
      "/mnt/hdd1/Data/f45movement/f45_output/0414/F45_5L1/F45_5L1_2022-04-14-08-10-50.8.jpg\n",
      "/mnt/hdd1/Data/f45movement/f45_output/0414/F45_5L1/F45_5L1_2022-04-14-09-26-47.8.jpg\n",
      "/mnt/hdd1/Data/f45movement/f45_output/0414/F45_5L1/F45_5L1_2022-04-14-09-43-18.3.jpg\n",
      "/mnt/hdd1/Data/f45movement/f45_output/0414/F45_5L1/F45_5L1_2022-04-14-10-23-42.8.jpg\n",
      "/mnt/hdd1/Data/f45movement/f45_output/0414/F45_5L1/F45_5L1_2022-04-14-11-59-53.6.jpg\n",
      "/mnt/hdd1/Data/f45movement/f45_output/0414/F45_5L1/F45_5L1_2022-04-14-12-07-37.8.jpg\n",
      "/mnt/hdd1/Data/f45movement/f45_output/0414/F45_5L1/F45_5L1_2022-04-14-12-31-38.2.jpg\n",
      "/mnt/hdd1/Data/f45movement/f45_output/0414/F45_5L1/F45_5L1_2022-04-14-12-35-47.1.jpg\n",
      "/mnt/hdd1/Data/f45movement/f45_output/0414/F45_5L1/F45_5L1_2022-04-14-13-12-55.2.jpg\n",
      "/mnt/hdd1/Data/f45movement/f45_output/0414/F45_5L12/F45_5L12_2022-04-14-03-39-09.4.jpg\n",
      "/mnt/hdd1/Data/f45movement/f45_output/0414/F45_5L12/F45_5L12_2022-04-14-05-50-04.1.jpg\n",
      "/mnt/hdd1/Data/f45movement/f45_output/0414/F45_5L12/F45_5L12_2022-04-14-07-08-08.9.jpg\n",
      "/mnt/hdd1/Data/f45movement/f45_output/0414/F45_5L12/F45_5L12_2022-04-14-08-23-03.8.jpg\n",
      "/mnt/hdd1/Data/f45movement/f45_output/0414/F45_5L12/F45_5L12_2022-04-14-08-26-33.1.jpg\n",
      "/mnt/hdd1/Data/f45movement/f45_output/0414/F45_5L13/F45_5L13_2022-04-14-03-22-49.9.jpg\n",
      "/mnt/hdd1/Data/f45movement/f45_output/0414/F45_5L11/F45_5L11_2022-04-14-08-40-30.3.jpg\n",
      "/mnt/hdd1/Data/f45movement/f45_output/0414/F45_5L11/F45_5L11_2022-04-14-09-37-53.4.jpg\n",
      "/mnt/hdd1/Data/f45movement/f45_output/0414/F45_5L11/F45_5L11_2022-04-14-12-12-15.6.jpg\n",
      "/mnt/hdd1/Data/f45movement/f45_output/0414/F45_5L5/F45_5L5_2022-04-14-06-56-25.5.jpg\n",
      "/mnt/hdd1/Data/f45movement/f45_output/0414/F45_5L5/F45_5L5_2022-04-14-07-53-29.6.jpg\n",
      "/mnt/hdd1/Data/f45movement/f45_output/0414/F45_5L5/F45_5L5_2022-04-14-09-05-04.3.jpg\n",
      "/mnt/hdd1/Data/f45movement/f45_output/0414/F45_5L5/F45_5L5_2022-04-14-10-31-13.9.jpg\n",
      "/mnt/hdd1/Data/f45movement/f45_output/0414/F45_5L5/F45_5L5_2022-04-14-10-39-44.0.jpg\n",
      "/mnt/hdd1/Data/f45movement/f45_output/0413/F45_5L7/F45_5L7_2022-04-13-00-40-38.3.jpg\n",
      "/mnt/hdd1/Data/f45movement/f45_output/0413/F45_5L7/F45_5L7_2022-04-13-00-56-33.0.jpg\n",
      "/mnt/hdd1/Data/f45movement/f45_output/0413/F45_5L7/F45_5L7_2022-04-13-01-09-34.0.jpg\n",
      "/mnt/hdd1/Data/f45movement/f45_output/0413/F45_5L7/F45_5L7_2022-04-13-02-30-45.9.jpg\n",
      "/mnt/hdd1/Data/f45movement/f45_output/0413/F45_5L7/F45_5L7_2022-04-13-03-33-18.5.jpg\n",
      "/mnt/hdd1/Data/f45movement/f45_output/0413/F45_5L7/F45_5L7_2022-04-13-03-49-36.5.jpg\n",
      "/mnt/hdd1/Data/f45movement/f45_output/0413/F45_5L7/F45_5L7_2022-04-13-03-50-22.5.jpg\n",
      "/mnt/hdd1/Data/f45movement/f45_output/0413/F45_5L7/F45_5L7_2022-04-13-03-54-17.1.jpg\n",
      "/mnt/hdd1/Data/f45movement/f45_output/0413/F45_5L7/F45_5L7_2022-04-13-03-58-36.2.jpg\n",
      "/mnt/hdd1/Data/f45movement/f45_output/0413/F45_5L7/F45_5L7_2022-04-13-03-58-49.8.jpg\n",
      "/mnt/hdd1/Data/f45movement/f45_output/0414/F45_5L8/F45_5L8_2022-04-14-00-09-51.4.jpg\n"
     ]
    },
    {
     "name": "stdout",
     "output_type": "stream",
     "text": [
      "/mnt/hdd1/Data/f45movement/f45_output/0414/F45_5L8/F45_5L8_2022-04-14-01-23-54.2.jpg\n",
      "/mnt/hdd1/Data/f45movement/f45_output/0414/F45_5L8/F45_5L8_2022-04-14-01-30-35.2.jpg\n",
      "/mnt/hdd1/Data/f45movement/f45_output/0414/F45_5L8/F45_5L8_2022-04-14-01-33-48.4.jpg\n",
      "/mnt/hdd1/Data/f45movement/f45_output/0414/F45_5L8/F45_5L8_2022-04-14-01-37-36.7.jpg\n",
      "/mnt/hdd1/Data/f45movement/f45_output/0414/F45_5L8/F45_5L8_2022-04-14-01-51-20.7.jpg\n",
      "/mnt/hdd1/Data/f45movement/f45_output/0414/F45_5L8/F45_5L8_2022-04-14-03-03-38.9.jpg\n",
      "/mnt/hdd1/Data/f45movement/f45_output/0414/F45_5L8/F45_5L8_2022-04-14-03-06-35.1.jpg\n",
      "/mnt/hdd1/Data/f45movement/f45_output/0414/F45_5L8/F45_5L8_2022-04-14-08-34-11.1.jpg\n",
      "/mnt/hdd1/Data/f45movement/f45_output/0414/F45_5L8/F45_5L8_2022-04-14-08-38-28.6.jpg\n",
      "/mnt/hdd1/Data/f45movement/f45_output/0414/F45_5L8/F45_5L8_2022-04-14-08-43-15.6.jpg\n",
      "/mnt/hdd1/Data/f45movement/f45_output/0414/F45_5L8/F45_5L8_2022-04-14-09-29-06.7.jpg\n",
      "label transformed qty:213\n"
     ]
    }
   ],
   "source": [
    "log_df = coco2yolo(transform_folder='0_not_train_labels', dest_folder='YoloDataV2')"
   ]
  },
  {
   "cell_type": "markdown",
   "metadata": {},
   "source": [
    "**Step 3.2: to YOLO requirements**"
   ]
  },
  {
   "cell_type": "code",
   "execution_count": 30,
   "metadata": {},
   "outputs": [
    {
     "name": "stdout",
     "output_type": "stream",
     "text": [
      "label folder:/mnt/hdd1/Data/f45movement/f45_label_YOLO\n",
      "2409 2047 362\n",
      "save yolo tr data txt: /home/tpe-aa-04/AA/Yvonne/darknet/data/f45_train.txt, qty:2047\n",
      "save yolo val data txt: /home/tpe-aa-04/AA/Yvonne/darknet/data/f45_test.txt, qty:362\n"
     ]
    }
   ],
   "source": [
    "darknet_path = '/home/tpe-aa-04/AA/Yvonne/darknet'\n",
    "generate_yolo_data_txt(darknet_path)"
   ]
  },
  {
   "cell_type": "code",
   "execution_count": 23,
   "metadata": {},
   "outputs": [],
   "source": [
    "## Step 3.3: train\n",
    "\n",
    "# <!-- 0. 下載txt\n",
    "# 1. 去darknet的路徑\n",
    "# 2. 把txt放在data資料夾下\n",
    "# 3. 下指令\n",
    "# ./darknet detector train data/f45_obj.data cfg/yolov4-tiny-f45-0331.cfg yolov4-tiny.conv.29 -dont_show -mjpeg_port 8080 -map -gpus 0,1\n",
    "\n",
    "# ./darknet detector train data/f45_obj.data cfg/yolov4-f45-0331.cfg yolov4.conv.137 -dont_show -mjpeg_port 8090 -map -gpus 0,1  -->"
   ]
  },
  {
   "cell_type": "code",
   "execution_count": 24,
   "metadata": {},
   "outputs": [],
   "source": [
    "## Step 4: update model\n",
    "\n",
    "# 1. 下載 pkl\n",
    "# 2. 更改 f45movement.py 裏面init的model\n",
    "# 3. 上傳 gitlab"
   ]
  },
  {
   "cell_type": "code",
   "execution_count": 9,
   "metadata": {},
   "outputs": [],
   "source": []
  }
 ],
 "metadata": {
  "kernelspec": {
   "display_name": "Python 3",
   "language": "python",
   "name": "python3"
  },
  "language_info": {
   "codemirror_mode": {
    "name": "ipython",
    "version": 3
   },
   "file_extension": ".py",
   "mimetype": "text/x-python",
   "name": "python",
   "nbconvert_exporter": "python",
   "pygments_lexer": "ipython3",
   "version": "3.6.9"
  }
 },
 "nbformat": 4,
 "nbformat_minor": 4
}
