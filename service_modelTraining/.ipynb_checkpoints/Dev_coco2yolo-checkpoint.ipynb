{
 "cells": [
  {
   "cell_type": "markdown",
   "metadata": {},
   "source": [
    "# YOLO Model - COCO2YOLO\n",
    "ref: https://hackmd.io/@Yvonne/Hk0NxtcX5"
   ]
  },
  {
   "cell_type": "code",
   "execution_count": 1,
   "metadata": {},
   "outputs": [],
   "source": [
    "%load_ext autoreload\n",
    "%autoreload 2\n",
    "import sys\n",
    "sys.path.append('.')\n",
    "sys.path.append('..')\n",
    "import logging\n",
    "from service_modelTraining.coco2yolo import coco2yolo,generate_yolo_data_txt\n",
    "from common.log import init_logging\n",
    "init_logging('coco2yolo')\n",
    "\n",
    "\n"
   ]
  },
  {
   "cell_type": "markdown",
   "metadata": {},
   "source": [
    "### 準備資料\n",
    "- 前置作業\n",
    "    - 已標注資料須先放到model folder: /mnt/hdd1/Data/f45movement/0_not_train_labels\n",
    "    - 並執行coco2yolo, 將coco label轉換成maskrcnn可使用的格式\n",
    "- 預設label路徑:\n",
    "    - /mnt/hdd1/Data/f45movement/f45_label_YOLO\n",
    "    - 程式會預設讀預設路徑下的所有label txt file"
   ]
  },
  {
   "cell_type": "markdown",
   "metadata": {},
   "source": [
    "**Step 3.1: transform json COCO format to txt**"
   ]
  },
  {
   "cell_type": "code",
   "execution_count": 2,
   "metadata": {
    "scrolled": true
   },
   "outputs": [
    {
     "name": "stdout",
     "output_type": "stream",
     "text": [
      "label transform folder: /mnt/hdd1/Data/f45movement/0_not_train_labels\n",
      "label transformed qty:213\n"
     ]
    }
   ],
   "source": [
    "log_df = coco2yolo(transform_folder='0_not_train_labels', dest_folder='YoloDataV2')"
   ]
  },
  {
   "cell_type": "markdown",
   "metadata": {},
   "source": [
    "**Step 3.2: to YOLO requirements**"
   ]
  },
  {
   "cell_type": "code",
   "execution_count": 3,
   "metadata": {},
   "outputs": [
    {
     "name": "stdout",
     "output_type": "stream",
     "text": [
      "label folder:/mnt/hdd1/Data/f45movement/f45_label_YOLO\n",
      "2230 1895 335\n",
      "save yolo tr data txt: /home/tpe-aa-04/AA/Yvonne/darknet/data/f45_train.txt, qty:1895\n",
      "save yolo val data txt: /home/tpe-aa-04/AA/Yvonne/darknet/data/f45_test.txt, qty:335\n"
     ]
    }
   ],
   "source": [
    "darknet_path = '/home/tpe-aa-04/AA/Yvonne/darknet'\n",
    "generate_yolo_data_txt(darknet_path)"
   ]
  },
  {
   "cell_type": "code",
   "execution_count": null,
   "metadata": {},
   "outputs": [],
   "source": [
    "## Step 3.3: train\n",
    "\n",
    "# <!-- 0. 下載txt\n",
    "# 1. 去darknet的路徑\n",
    "# 2. 把txt放在data資料夾下\n",
    "# 3. 下指令\n",
    "# ./darknet detector train data/f45_obj.data cfg/yolov4-tiny-f45-0331.cfg yolov4-tiny.conv.29 -dont_show -mjpeg_port 8080 -map -gpus 0,1\n",
    "\n",
    "# ./darknet detector train data/f45_obj.data cfg/yolov4-f45-0331.cfg yolov4.conv.137 -dont_show -mjpeg_port 8090 -map -gpus 0,1  -->"
   ]
  },
  {
   "cell_type": "code",
   "execution_count": null,
   "metadata": {},
   "outputs": [],
   "source": [
    "## Step 4: update model\n",
    "\n",
    "# 1. 下載 pkl\n",
    "# 2. 更改 f45movement.py 裏面init的model\n",
    "# 3. 上傳 gitlab"
   ]
  },
  {
   "cell_type": "code",
   "execution_count": 9,
   "metadata": {},
   "outputs": [],
   "source": []
  }
 ],
 "metadata": {
  "kernelspec": {
   "display_name": "Python 3",
   "language": "python",
   "name": "python3"
  },
  "language_info": {
   "codemirror_mode": {
    "name": "ipython",
    "version": 3
   },
   "file_extension": ".py",
   "mimetype": "text/x-python",
   "name": "python",
   "nbconvert_exporter": "python",
   "pygments_lexer": "ipython3",
   "version": "3.6.9"
  }
 },
 "nbformat": 4,
 "nbformat_minor": 4
}
