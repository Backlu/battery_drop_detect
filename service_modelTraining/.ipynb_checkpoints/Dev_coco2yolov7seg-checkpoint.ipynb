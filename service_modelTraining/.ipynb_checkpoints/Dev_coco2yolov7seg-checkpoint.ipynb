{
 "cells": [
  {
   "cell_type": "markdown",
   "metadata": {},
   "source": [
    "# Combine COCO"
   ]
  },
  {
   "cell_type": "code",
   "execution_count": 357,
   "metadata": {},
   "outputs": [
    {
     "name": "stdout",
     "output_type": "stream",
     "text": [
      "The autoreload extension is already loaded. To reload it, use:\n",
      "  %reload_ext autoreload\n"
     ]
    }
   ],
   "source": [
    "%load_ext autoreload\n",
    "%autoreload 2\n",
    "import sys\n",
    "sys.path.append('.')\n",
    "sys.path.append('..')\n",
    "import os\n",
    "import sys\n",
    "from math import ceil, floor\n",
    "import numpy as np\n",
    "import cv2\n",
    "import pandas as pd\n",
    "import json\n",
    "import glob\n",
    "import shutil\n",
    "from sklearn.model_selection import train_test_split\n",
    "from pathlib import Path\n",
    "import logging\n",
    "from common.log import init_logging\n",
    "from common.utils import get_data_dir\n",
    "DATA_DIR = get_data_dir()"
   ]
  },
  {
   "cell_type": "markdown",
   "metadata": {},
   "source": [
    "### Annotations"
   ]
  },
  {
   "cell_type": "code",
   "execution_count": 359,
   "metadata": {},
   "outputs": [],
   "source": [
    "LABEL_DIR = os.path.join(DATA_DIR, 'f45_label_MaskRCNN')\n",
    "IMG_DIR = os.path.join(DATA_DIR, 'f45_output')\n",
    "transform_folder='0_not_train_labels'\n",
    "label_folder = os.path.join(DATA_DIR, transform_folder)\n",
    "json_paths = os.path.join(label_folder, '*.json')\n",
    "coco_labels = glob.glob(json_paths)"
   ]
  },
  {
   "cell_type": "code",
   "execution_count": 360,
   "metadata": {},
   "outputs": [
    {
     "name": "stdout",
     "output_type": "stream",
     "text": [
      "Save train annotation to /mnt/hdd1/Data/f45movement/f45coco/annotations/instances_train.json\n",
      "Save val annotation to /mnt/hdd1/Data/f45movement/f45coco/annotations/instances_val.json\n"
     ]
    }
   ],
   "source": [
    "#Get a sample annotation jsom\n",
    "with open(coco_labels[0], newline='') as f:\n",
    "    sample_json = json.load(f)\n",
    "\n",
    "#讀出所有json, 合併成一個\n",
    "image_shift=0\n",
    "annotation_shift=0\n",
    "new_image_list = []\n",
    "new_annotation_list = []\n",
    "image_list = []\n",
    "image_id = []\n",
    "for label_path in coco_labels:\n",
    "    with open(label_path, newline='') as f:\n",
    "        data_json = json.load(f)\n",
    "        raw_annotations = data_json['annotations']\n",
    "        raw_images = data_json['images']\n",
    "        \n",
    "        annotations = []\n",
    "        valid_img_ids = []\n",
    "        for ann in raw_annotations:\n",
    "            if ann['category_id'] in [4,5,6]:\n",
    "                valid_img_ids.append(ann['image_id'])\n",
    "                annotations.append(ann)\n",
    "\n",
    "        images = []\n",
    "        for img in raw_images:\n",
    "            if img['id'] in valid_img_ids:\n",
    "                images.append(img)        \n",
    "        \n",
    "        \n",
    "        for ann in annotations:\n",
    "            ann['image_id'] += image_shift\n",
    "            ann['id'] += annotation_shift\n",
    "        for img in images:\n",
    "            img['id'] += image_shift\n",
    "            img_path = os.path.join(IMG_DIR, img['file_name'])\n",
    "            img['file_name'] = os.path.basename(img['file_name'])\n",
    "            image_list.append(img_path)\n",
    "            image_id.append(img['id'])\n",
    "            \n",
    "        image_shift = image_shift + len(raw_images)\n",
    "        annotation_shift = annotation_shift + len(raw_annotations)\n",
    "    new_image_list = new_image_list + images\n",
    "    new_annotation_list = new_annotation_list + annotations\n",
    "sample_json['images'] = new_image_list\n",
    "sample_json['annotations'] = new_annotation_list    \n",
    "\n",
    "annotation_dir = os.path.join(DATA_DIR,'f45coco/annotations')\n",
    "if not os.path.exists(annotation_dir):\n",
    "    os.makedirs(annotation_dir)\n",
    "annotation_path = os.path.join(annotation_dir,'instances_train.json')  \n",
    "with open(annotation_path, 'w') as f:\n",
    "    json.dump(sample_json, f)\n",
    "    print(f'Save train annotation to {annotation_path}')\n",
    "annotation_path = os.path.join(annotation_dir,'instances_val.json')  \n",
    "with open(annotation_path, 'w') as f:\n",
    "    json.dump(sample_json, f)\n",
    "    print(f'Save val annotation to {annotation_path}')\n",
    "    \n"
   ]
  },
  {
   "cell_type": "markdown",
   "metadata": {},
   "source": [
    "### Images"
   ]
  },
  {
   "cell_type": "code",
   "execution_count": 361,
   "metadata": {},
   "outputs": [
    {
     "name": "stdout",
     "output_type": "stream",
     "text": [
      "txt_path_tr /mnt/hdd1/Data/f45movement/f45coco/train.txt\n",
      "txt_path_val /mnt/hdd1/Data/f45movement/f45coco/val.txt\n"
     ]
    }
   ],
   "source": [
    "image_list_tr, image_list_val = train_test_split(image_list, test_size=0.15)\n",
    "image_dir_tr = os.path.join(DATA_DIR,'f45coco/images/train')\n",
    "if not os.path.exists(image_dir_tr):\n",
    "    os.makedirs(image_dir_tr)\n",
    "image_dir_val = os.path.join(DATA_DIR,'f45coco/images/val')\n",
    "if not os.path.exists(image_dir_val):\n",
    "    os.makedirs(image_dir_val)\n",
    "    \n",
    "new_image_list_tr=[]    \n",
    "for img_path in image_list_tr:\n",
    "    file_name = os.path.basename(img_path)\n",
    "    new_path = os.path.join(image_dir_tr, file_name)\n",
    "    shutil.copyfile(img_path, new_path)\n",
    "    new_image_list_tr.append(new_path.replace('/mnt/hdd1/Data/f45movement/f45coco','.'))\n",
    "    \n",
    "new_image_list_val=[]        \n",
    "for img_path in image_list_val:\n",
    "    file_name = os.path.basename(img_path)\n",
    "    new_path = os.path.join(image_dir_val, file_name)\n",
    "    shutil.copyfile(img_path, new_path)\n",
    "    new_image_list_val.append(new_path.replace('/mnt/hdd1/Data/f45movement/f45coco','.'))\n",
    "    \n",
    "txt_path_tr = os.path.join(DATA_DIR, 'f45coco/train.txt')\n",
    "txt_path_val = os.path.join(DATA_DIR, 'f45coco/val.txt')\n",
    "pd.Series(new_image_list_tr).to_csv(txt_path_tr, header=None, index=None)\n",
    "pd.Series(new_image_list_val).to_csv(txt_path_val, header=None, index=None)\n",
    "print(f'txt_path_tr {txt_path_tr}')\n",
    "print(f'txt_path_val {txt_path_val}')\n"
   ]
  },
  {
   "cell_type": "markdown",
   "metadata": {},
   "source": [
    "## Labels"
   ]
  },
  {
   "cell_type": "code",
   "execution_count": 362,
   "metadata": {},
   "outputs": [
    {
     "name": "stdout",
     "output_type": "stream",
     "text": [
      "label transformed qty:183\n"
     ]
    },
    {
     "data": {
      "text/html": [
       "<div>\n",
       "<style scoped>\n",
       "    .dataframe tbody tr th:only-of-type {\n",
       "        vertical-align: middle;\n",
       "    }\n",
       "\n",
       "    .dataframe tbody tr th {\n",
       "        vertical-align: top;\n",
       "    }\n",
       "\n",
       "    .dataframe thead th {\n",
       "        text-align: right;\n",
       "    }\n",
       "</style>\n",
       "<table border=\"1\" class=\"dataframe\">\n",
       "  <thead>\n",
       "    <tr style=\"text-align: right;\">\n",
       "      <th></th>\n",
       "      <th>folder</th>\n",
       "      <th>image</th>\n",
       "      <th>json</th>\n",
       "    </tr>\n",
       "  </thead>\n",
       "  <tbody>\n",
       "    <tr>\n",
       "      <th>0</th>\n",
       "      <td>/mnt/hdd1/Data/f45movement/f45coco/labels/train</td>\n",
       "      <td>F45_5L10_2022-04-14-03-13-02.0.jpg</td>\n",
       "      <td>F45_5L10_2022-04-14-03-13-02.0.txt</td>\n",
       "    </tr>\n",
       "    <tr>\n",
       "      <th>1</th>\n",
       "      <td>/mnt/hdd1/Data/f45movement/f45coco/labels/train</td>\n",
       "      <td>F45_5L10_2022-04-14-03-25-35.2.jpg</td>\n",
       "      <td>F45_5L10_2022-04-14-03-25-35.2.txt</td>\n",
       "    </tr>\n",
       "    <tr>\n",
       "      <th>2</th>\n",
       "      <td>/mnt/hdd1/Data/f45movement/f45coco/labels/val</td>\n",
       "      <td>F45_5L10_2022-04-14-03-50-28.1.jpg</td>\n",
       "      <td>F45_5L10_2022-04-14-03-50-28.1.txt</td>\n",
       "    </tr>\n",
       "    <tr>\n",
       "      <th>3</th>\n",
       "      <td>/mnt/hdd1/Data/f45movement/f45coco/labels/val</td>\n",
       "      <td>F45_5L10_2022-04-14-05-52-34.0.jpg</td>\n",
       "      <td>F45_5L10_2022-04-14-05-52-34.0.txt</td>\n",
       "    </tr>\n",
       "    <tr>\n",
       "      <th>4</th>\n",
       "      <td>/mnt/hdd1/Data/f45movement/f45coco/labels/train</td>\n",
       "      <td>F45_5L10_2022-04-14-07-16-11.7.jpg</td>\n",
       "      <td>F45_5L10_2022-04-14-07-16-11.7.txt</td>\n",
       "    </tr>\n",
       "    <tr>\n",
       "      <th>...</th>\n",
       "      <td>...</td>\n",
       "      <td>...</td>\n",
       "      <td>...</td>\n",
       "    </tr>\n",
       "    <tr>\n",
       "      <th>178</th>\n",
       "      <td>/mnt/hdd1/Data/f45movement/f45coco/labels/train</td>\n",
       "      <td>F45_5L8_2022-04-14-03-06-35.1.jpg</td>\n",
       "      <td>F45_5L8_2022-04-14-03-06-35.1.txt</td>\n",
       "    </tr>\n",
       "    <tr>\n",
       "      <th>179</th>\n",
       "      <td>/mnt/hdd1/Data/f45movement/f45coco/labels/train</td>\n",
       "      <td>F45_5L8_2022-04-14-08-34-11.1.jpg</td>\n",
       "      <td>F45_5L8_2022-04-14-08-34-11.1.txt</td>\n",
       "    </tr>\n",
       "    <tr>\n",
       "      <th>180</th>\n",
       "      <td>/mnt/hdd1/Data/f45movement/f45coco/labels/train</td>\n",
       "      <td>F45_5L8_2022-04-14-08-38-28.6.jpg</td>\n",
       "      <td>F45_5L8_2022-04-14-08-38-28.6.txt</td>\n",
       "    </tr>\n",
       "    <tr>\n",
       "      <th>181</th>\n",
       "      <td>/mnt/hdd1/Data/f45movement/f45coco/labels/val</td>\n",
       "      <td>F45_5L8_2022-04-14-08-43-15.6.jpg</td>\n",
       "      <td>F45_5L8_2022-04-14-08-43-15.6.txt</td>\n",
       "    </tr>\n",
       "    <tr>\n",
       "      <th>182</th>\n",
       "      <td>/mnt/hdd1/Data/f45movement/f45coco/labels/train</td>\n",
       "      <td>F45_5L8_2022-04-14-09-29-06.7.jpg</td>\n",
       "      <td>F45_5L8_2022-04-14-09-29-06.7.txt</td>\n",
       "    </tr>\n",
       "  </tbody>\n",
       "</table>\n",
       "<p>183 rows × 3 columns</p>\n",
       "</div>"
      ],
      "text/plain": [
       "                                              folder  \\\n",
       "0    /mnt/hdd1/Data/f45movement/f45coco/labels/train   \n",
       "1    /mnt/hdd1/Data/f45movement/f45coco/labels/train   \n",
       "2      /mnt/hdd1/Data/f45movement/f45coco/labels/val   \n",
       "3      /mnt/hdd1/Data/f45movement/f45coco/labels/val   \n",
       "4    /mnt/hdd1/Data/f45movement/f45coco/labels/train   \n",
       "..                                               ...   \n",
       "178  /mnt/hdd1/Data/f45movement/f45coco/labels/train   \n",
       "179  /mnt/hdd1/Data/f45movement/f45coco/labels/train   \n",
       "180  /mnt/hdd1/Data/f45movement/f45coco/labels/train   \n",
       "181    /mnt/hdd1/Data/f45movement/f45coco/labels/val   \n",
       "182  /mnt/hdd1/Data/f45movement/f45coco/labels/train   \n",
       "\n",
       "                                  image                                json  \n",
       "0    F45_5L10_2022-04-14-03-13-02.0.jpg  F45_5L10_2022-04-14-03-13-02.0.txt  \n",
       "1    F45_5L10_2022-04-14-03-25-35.2.jpg  F45_5L10_2022-04-14-03-25-35.2.txt  \n",
       "2    F45_5L10_2022-04-14-03-50-28.1.jpg  F45_5L10_2022-04-14-03-50-28.1.txt  \n",
       "3    F45_5L10_2022-04-14-05-52-34.0.jpg  F45_5L10_2022-04-14-05-52-34.0.txt  \n",
       "4    F45_5L10_2022-04-14-07-16-11.7.jpg  F45_5L10_2022-04-14-07-16-11.7.txt  \n",
       "..                                  ...                                 ...  \n",
       "178   F45_5L8_2022-04-14-03-06-35.1.jpg   F45_5L8_2022-04-14-03-06-35.1.txt  \n",
       "179   F45_5L8_2022-04-14-08-34-11.1.jpg   F45_5L8_2022-04-14-08-34-11.1.txt  \n",
       "180   F45_5L8_2022-04-14-08-38-28.6.jpg   F45_5L8_2022-04-14-08-38-28.6.txt  \n",
       "181   F45_5L8_2022-04-14-08-43-15.6.jpg   F45_5L8_2022-04-14-08-43-15.6.txt  \n",
       "182   F45_5L8_2022-04-14-09-29-06.7.jpg   F45_5L8_2022-04-14-09-29-06.7.txt  \n",
       "\n",
       "[183 rows x 3 columns]"
      ]
     },
     "execution_count": 362,
     "metadata": {},
     "output_type": "execute_result"
    }
   ],
   "source": [
    "\n",
    "label_dict = {\n",
    "    'battery': 0,\n",
    "    'vpen': 1,\n",
    "    'black': 2,\n",
    "}\n",
    "\n",
    "debug_log_list =[]\n",
    "with open('/mnt/hdd1/Data/f45movement/f45coco/annotations/instances_train.json', newline='') as f:\n",
    "    data = json.load(f)\n",
    "    \n",
    "image_name_tr = [os.path.basename(x) for x in image_list_tr]\n",
    "image_name_val = [os.path.basename(x) for x in image_list_val]    \n",
    "new_folder_path_tr = os.path.join(DATA_DIR,'f45coco/labels/train')\n",
    "if not os.path.exists(new_folder_path_tr):\n",
    "    os.makedirs(new_folder_path_tr)\n",
    "new_folder_path_val = os.path.join(DATA_DIR,'f45coco/labels/val')\n",
    "if not os.path.exists(new_folder_path_val):\n",
    "    os.makedirs(new_folder_path_val)    \n",
    "    \n",
    "file_path_dict = pd.DataFrame(data['images']).set_index('id')['file_name'].to_dict()\n",
    "category_type_dict = pd.DataFrame(data['categories']).set_index('id')['name'].to_dict()\n",
    "height_dict = pd.DataFrame(data['images']).set_index('id')['height'].to_dict()\n",
    "width_dict = pd.DataFrame(data['images']).set_index('id')['width'].to_dict()\n",
    "\n",
    "annotation_df = pd.DataFrame(data['annotations'])\n",
    "annotation_df['category_type']=annotation_df['category_id'].map(lambda x:category_type_dict[x])\n",
    "for image_id in annotation_df.image_id.unique():\n",
    "    img_height = height_dict[image_id]\n",
    "    img_width = width_dict[image_id]    \n",
    "    img_annotation_df = annotation_df[(annotation_df['image_id']==image_id)]\n",
    "    label_list = []\n",
    "    for r in img_annotation_df.itertuples():\n",
    "        if r.category_type not in label_dict.keys():\n",
    "            continue        \n",
    "        seg_points = r.segmentation[0]\n",
    "        seg_points[0::2] = np.array(seg_points[0::2])/img_width\n",
    "        seg_points[1::2] = np.array(seg_points[1::2])/img_height        \n",
    "        seg_points.insert(0, label_dict[r.category_type])\n",
    "        label_list.append(seg_points)\n",
    "    if len(label_list)==0:\n",
    "        continue\n",
    "    \n",
    "    file_path = file_path_dict[image_id]\n",
    "    img_file_name = os.path.basename(file_path)\n",
    "    img_path = os.path.join(IMG_DIR, file_path)\n",
    "    txt_file_name = img_file_name.replace('.jpg','.txt')\n",
    "    if img_file_name in image_name_tr:\n",
    "        new_folder_path = new_folder_path_tr\n",
    "    elif img_file_name in image_name_val:\n",
    "        new_folder_path = new_folder_path_val\n",
    "    else:\n",
    "        assert False, f'assert err: {img_file_name}'\n",
    "                \n",
    "    new_txt_path = os.path.join(new_folder_path, txt_file_name)\n",
    "    with open(new_txt_path, 'w') as f:\n",
    "        for seg in label_list:\n",
    "            seg = [str(p) for p in seg]\n",
    "            text = ' '.join(seg)\n",
    "            f.write(text+'\\n')\n",
    "    debug_log_list.append((new_folder_path, img_file_name, txt_file_name))\n",
    "\n",
    "debug_log_df = pd.DataFrame(debug_log_list, columns=['folder','image','json'])                    \n",
    "print(f'label transformed qty:{len(debug_log_df)}')\n"
   ]
  },
  {
   "cell_type": "code",
   "execution_count": 365,
   "metadata": {},
   "outputs": [
    {
     "data": {
      "text/plain": [
       "/mnt/hdd1/Data/f45movement/f45coco/labels/train    155\n",
       "/mnt/hdd1/Data/f45movement/f45coco/labels/val       28\n",
       "Name: folder, dtype: int64"
      ]
     },
     "execution_count": 365,
     "metadata": {},
     "output_type": "execute_result"
    }
   ],
   "source": [
    "debug_log_df['folder'].value_counts()"
   ]
  },
  {
   "cell_type": "code",
   "execution_count": null,
   "metadata": {},
   "outputs": [],
   "source": []
  },
  {
   "cell_type": "code",
   "execution_count": null,
   "metadata": {},
   "outputs": [],
   "source": []
  }
 ],
 "metadata": {
  "kernelspec": {
   "display_name": "Python 3",
   "language": "python",
   "name": "python3"
  },
  "language_info": {
   "codemirror_mode": {
    "name": "ipython",
    "version": 3
   },
   "file_extension": ".py",
   "mimetype": "text/x-python",
   "name": "python",
   "nbconvert_exporter": "python",
   "pygments_lexer": "ipython3",
   "version": "3.6.9"
  }
 },
 "nbformat": 4,
 "nbformat_minor": 4
}
