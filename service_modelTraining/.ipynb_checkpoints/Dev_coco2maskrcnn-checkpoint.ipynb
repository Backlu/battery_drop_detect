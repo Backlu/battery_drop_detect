{
 "cells": [
  {
   "cell_type": "markdown",
   "metadata": {},
   "source": [
    "# COCO2MASKRCNN\n",
    "#### 將標註物件的座標做位置轉換\n",
    "- Step 3.1: 將標註的 coco 格式 擷取出 battery_f 的區塊，再把 battery, vpen, black 做座標轉換成 MaskRCNN 可使用的格式\n",
    "- Step 3.1.a: 以 battery_f bbox 的 x,y 為原點(0,0)\n",
    "- Step 3.1.b: 以 battery_f bbox 的 w,h 為比例，縮放至 64x64 的大小\n"
   ]
  },
  {
   "cell_type": "code",
   "execution_count": 23,
   "metadata": {},
   "outputs": [
    {
     "name": "stdout",
     "output_type": "stream",
     "text": [
      "The autoreload extension is already loaded. To reload it, use:\n",
      "  %reload_ext autoreload\n"
     ]
    }
   ],
   "source": [
    "%load_ext autoreload\n",
    "%autoreload 2\n",
    "from service_modelTraining.coco2maskrcnn import coco2maskrcnn\n",
    "from common.log import init_logging\n",
    "init_logging('coco2maskrcnn')"
   ]
  },
  {
   "cell_type": "code",
   "execution_count": 21,
   "metadata": {
    "scrolled": true
   },
   "outputs": [
    {
     "name": "stdout",
     "output_type": "stream",
     "text": [
      "label transform folder:/mnt/hdd1/Data/f45movement/f45_label_MaskRCNN/0_not_train_labels\n",
      "label transformed qty:38\n",
      "label folder: 5L2_0413, 5L4_0413, 5L7_0414, 5L5_0413, 5L6_0413, 5L1_0413, 5L3_0413, 5L8_0414\n"
     ]
    }
   ],
   "source": [
    "\n",
    "coco2maskrcnn('0_not_train_labels')"
   ]
  },
  {
   "cell_type": "code",
   "execution_count": null,
   "metadata": {},
   "outputs": [],
   "source": []
  },
  {
   "cell_type": "code",
   "execution_count": null,
   "metadata": {},
   "outputs": [],
   "source": []
  }
 ],
 "metadata": {
  "kernelspec": {
   "display_name": "Python 3",
   "language": "python",
   "name": "python3"
  },
  "language_info": {
   "codemirror_mode": {
    "name": "ipython",
    "version": 3
   },
   "file_extension": ".py",
   "mimetype": "text/x-python",
   "name": "python",
   "nbconvert_exporter": "python",
   "pygments_lexer": "ipython3",
   "version": "3.6.9"
  }
 },
 "nbformat": 4,
 "nbformat_minor": 4
}
