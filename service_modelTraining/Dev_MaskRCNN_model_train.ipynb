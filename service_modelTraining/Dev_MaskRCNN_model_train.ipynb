{
 "cells": [
  {
   "cell_type": "markdown",
   "metadata": {},
   "source": [
    "## MASK RCNN - Train"
   ]
  },
  {
   "cell_type": "code",
   "execution_count": null,
   "metadata": {
    "scrolled": true
   },
   "outputs": [],
   "source": [
    "%load_ext autoreload\n",
    "%autoreload 2\n",
    "import os\n",
    "os.environ['CUDA_VISIBLE_DEVICES'] = '0'\n",
    "import sys\n",
    "sys.path.append('.')\n",
    "sys.path.append('..')\n",
    "import random\n",
    "import time\n",
    "import numpy as np\n",
    "import cv2\n",
    "import tensorflow as tf\n",
    "import pandas as pd\n",
    "import json\n",
    "import glob\n",
    "from pathlib import Path\n",
    "import datetime\n",
    "\n",
    "from lib.mrcnn import visualize\n",
    "import imgaug.augmenters as iaa\n",
    "from common.utils import get_data_dir, get_model_dir, gpu_ram_growth_config\n",
    "import logging\n",
    "from common.log import init_logging\n",
    "from service_modelTraining.maskrcnn_training import get_dataset, get_maskrcnn_model, save_best_model, save_training_metric\n",
    "\n",
    "#----------\n",
    "init_logging('maskrcnn_training')\n",
    "MODEL_DIR = get_model_dir()\n",
    "COCO_MODEL_PATH = os.path.join(MODEL_DIR, 'mask_rcnn_coco.h5')\n",
    "gpu_ram_growth_config(0)\n"
   ]
  },
  {
   "cell_type": "markdown",
   "metadata": {},
   "source": [
    "### 準備資料\n",
    "- 前置作業\n",
    "    - 已標注資料須先放到model folder: /mnt/hdd1/Data/f45movement/0_not_train_labels\n",
    "    - 並執行coco2maskrcnn, 將coco label轉換成maskrcnn可使用的格式\n",
    "- 預設label路徑:\n",
    "    - /mnt/hdd1/Data/f45movement/f45_label_MaskRCNN\n",
    "    - 程式會預設讀預設路徑下的所有label json file"
   ]
  },
  {
   "cell_type": "code",
   "execution_count": null,
   "metadata": {},
   "outputs": [],
   "source": [
    "data_bunch = get_dataset()"
   ]
  },
  {
   "cell_type": "markdown",
   "metadata": {},
   "source": [
    "### 檢查標註資料"
   ]
  },
  {
   "cell_type": "code",
   "execution_count": null,
   "metadata": {},
   "outputs": [],
   "source": [
    "if False:\n",
    "    image_ids = np.random.choice(data_bunch.tr.image_ids, 4)\n",
    "    for image_id in image_ids:\n",
    "        image = data_bunch.tr.load_image(image_id)\n",
    "        mask, class_ids = data_bunch.tr.load_mask(image_id)\n",
    "        visualize.display_top_masks(image, mask, class_ids, data_bunch.tr.class_names)\n"
   ]
  },
  {
   "cell_type": "markdown",
   "metadata": {},
   "source": [
    "### Training\n",
    "- use tansorboard to monitor status\n",
    "    - cmd: tensorboard --logdir /mnt/hdd1/Model/f45movement/model/battery20220901T1137 --bind_all\n",
    "    - UI: http://10.109.6.11:6006/#scalars\n",
    "    "
   ]
  },
  {
   "cell_type": "code",
   "execution_count": null,
   "metadata": {},
   "outputs": [],
   "source": [
    "model = get_maskrcnn_model(init_weight='coco')\n",
    "model.train(data_bunch.tr, data_bunch.val, epochs=50)\n",
    "save_best_model(model)\n",
    "save_training_metric(model)\n",
    "\n"
   ]
  },
  {
   "cell_type": "markdown",
   "metadata": {},
   "source": []
  }
 ],
 "metadata": {
  "kernelspec": {
   "display_name": "Python 3",
   "language": "python",
   "name": "python3"
  },
  "language_info": {
   "codemirror_mode": {
    "name": "ipython",
    "version": 3
   },
   "file_extension": ".py",
   "mimetype": "text/x-python",
   "name": "python",
   "nbconvert_exporter": "python",
   "pygments_lexer": "ipython3",
   "version": "3.6.9"
  }
 },
 "nbformat": 4,
 "nbformat_minor": 4
}
