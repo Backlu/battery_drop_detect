{
 "cells": [
  {
   "cell_type": "markdown",
   "metadata": {},
   "source": [
    "# Battery Drop Detect"
   ]
  },
  {
   "cell_type": "code",
   "execution_count": null,
   "metadata": {},
   "outputs": [],
   "source": [
    "%load_ext autoreload\n",
    "%autoreload 2\n",
    "import os\n",
    "os.environ['TF_CPP_MIN_LOG_LEVEL'] = '3' \n",
    "import sys\n",
    "sys.path.append('.')\n",
    "sys.path.append('..')\n",
    "import pandas as pd\n",
    "import datetime\n",
    "from service_batteryDropDetect.schedule import inference_pod\n",
    "from common.db import Database_Connection\n",
    "from common.log import init_logging\n",
    "from common.utils import gpu_ram_config\n",
    "from service_batteryDropDetect.f45movement import F45Movement\n",
    "from service_batteryDropDetect.f45_inference_main_online import f45_battDrop_detect\n"
   ]
  },
  {
   "cell_type": "markdown",
   "metadata": {},
   "source": [
    "**Create k8s Job**"
   ]
  },
  {
   "cell_type": "code",
   "execution_count": null,
   "metadata": {},
   "outputs": [],
   "source": [
    "db = Database_Connection()\n",
    "table_name = 'inference_schedule_setting'\n",
    "cameraID_df = pd.read_sql(f\"select server_id, mid from {table_name}\", db.engine)\n",
    "today = datetime.datetime.now().strftime(\"%Y%m%d\")\n",
    "cam = cameraID_df.iloc[0]\n",
    "gpu_id = cam['server_id']\n",
    "camera_mid = cam['mid']\n",
    "job_name = cam['mid'].replace('_', '-').lower() + '-' + today\n",
    "print(f'mid: {camera_mid}, job_name: {job_name}')\n",
    "#下面這行在local沒辦法測試, 沒有k8s環境\n",
    "#inference_pod(gpu_id, mid, job_name) "
   ]
  },
  {
   "cell_type": "code",
   "execution_count": null,
   "metadata": {},
   "outputs": [],
   "source": [
    "cameraID_df[cameraID_df['mid']=='F45_5L10']"
   ]
  },
  {
   "cell_type": "markdown",
   "metadata": {},
   "source": [
    "**Inference**"
   ]
  },
  {
   "cell_type": "code",
   "execution_count": null,
   "metadata": {},
   "outputs": [],
   "source": [
    "os.environ['CUDA_VISIBLE_DEVICES'] = '0'\n",
    "os.environ['ALIYUN_COM_GPU_MEM_IDX'] = '0'\n",
    "os.environ['ALIYUN_POD_GPU_MEMORY'] = '1683'\n",
    "os.environ['PRESERVE_GPU_MEMORY'] = '763'\n",
    "\n",
    "init_logging()\n",
    "#gpu_ram_config()"
   ]
  },
  {
   "cell_type": "code",
   "execution_count": null,
   "metadata": {
    "scrolled": false
   },
   "outputs": [],
   "source": [
    "\n",
    "endtime = datetime.datetime.now()+ datetime.timedelta(minutes=15)\n",
    "f45_battDrop_detect(camera_mid, endtime.hour, endtime.minute, is_online=False, stream_mode=F45Movement.STEAM_MODE_TEST_FILE)\n"
   ]
  },
  {
   "cell_type": "code",
   "execution_count": null,
   "metadata": {},
   "outputs": [],
   "source": [
    "f45_battDrop_detect(camera_mid, endtime.hour, endtime.minute, is_online=False, stream_mode=F45Movement.STEAM_MODE_REPLAY)\n"
   ]
  },
  {
   "cell_type": "code",
   "execution_count": null,
   "metadata": {},
   "outputs": [],
   "source": []
  }
 ],
 "metadata": {
  "kernelspec": {
   "display_name": "Python 3",
   "language": "python",
   "name": "python3"
  },
  "language_info": {
   "codemirror_mode": {
    "name": "ipython",
    "version": 3
   },
   "file_extension": ".py",
   "mimetype": "text/x-python",
   "name": "python",
   "nbconvert_exporter": "python",
   "pygments_lexer": "ipython3",
   "version": "3.6.9"
  }
 },
 "nbformat": 4,
 "nbformat_minor": 4
}
