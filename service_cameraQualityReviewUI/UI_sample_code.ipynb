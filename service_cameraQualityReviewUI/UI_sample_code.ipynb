{
 "cells": [
  {
   "cell_type": "markdown",
   "metadata": {},
   "source": [
    "# UI Sample Code"
   ]
  },
  {
   "cell_type": "code",
   "execution_count": 9,
   "metadata": {},
   "outputs": [
    {
     "name": "stdout",
     "output_type": "stream",
     "text": [
      "The autoreload extension is already loaded. To reload it, use:\n",
      "  %reload_ext autoreload\n"
     ]
    }
   ],
   "source": [
    "%load_ext autoreload\n",
    "%autoreload 2\n",
    "import sys\n",
    "sys.path.append('.')\n",
    "sys.path.append('..')\n",
    "import os\n",
    "import pandas as pd\n",
    "import streamlit as st\n",
    "import time\n",
    "from paramiko import SSHConfig, SSHClient\n",
    "import paramiko\n",
    "from contextlib import closing\n",
    "import numpy as np\n",
    "import cv2\n",
    "from sqlalchemy import create_engine\n",
    "from streamlit_lottie import st_lottie\n",
    "from streamlit_lottie import st_lottie_spinner\n",
    "import json\n",
    "import glob\n",
    "import random\n",
    "from common.db import Database_Connection\n",
    "from common.utils import get_data_dir, get_project_root\n",
    "DATA_DIR = get_data_dir()\n",
    "ROOT_DIR = get_project_root()"
   ]
  },
  {
   "cell_type": "code",
   "execution_count": 14,
   "metadata": {},
   "outputs": [],
   "source": [
    "lottie_path = os.path.join(ROOT_DIR, 'service_cameraQualityReviewUI/lottie/*.json')"
   ]
  },
  {
   "cell_type": "code",
   "execution_count": 15,
   "metadata": {},
   "outputs": [
    {
     "data": {
      "text/plain": [
       "'../service_cameraQualityReviewUI/lottie/*.json'"
      ]
     },
     "execution_count": 15,
     "metadata": {},
     "output_type": "execute_result"
    }
   ],
   "source": [
    "lottie_path"
   ]
  },
  {
   "cell_type": "code",
   "execution_count": 12,
   "metadata": {},
   "outputs": [
    {
     "name": "stdout",
     "output_type": "stream",
     "text": [
      "ls: cannot access '../lottie': No such file or directory\r\n"
     ]
    }
   ],
   "source": [
    "ls -l '../lottie'"
   ]
  },
  {
   "cell_type": "code",
   "execution_count": 13,
   "metadata": {},
   "outputs": [
    {
     "name": "stdout",
     "output_type": "stream",
     "text": [
      "total 28\r\n",
      "-rw-rw-r-- 1 tpe-aa-04 tpe-aa-04 6388  八  24 11:59 app.py\r\n",
      "drwxrwxr-x 2 tpe-aa-04 tpe-aa-04 4096  八  24 10:30 \u001b[0m\u001b[01;34masset\u001b[0m/\r\n",
      "-rw-rw-r-- 1 tpe-aa-04 tpe-aa-04  155  八  24 10:30 config.toml\r\n",
      "drwxrwxr-x 2 tpe-aa-04 tpe-aa-04 4096  八  24 10:30 \u001b[01;34mlottie\u001b[0m/\r\n",
      "drwxrwxr-x 3 tpe-aa-04 tpe-aa-04 4096  八  24 10:30 \u001b[01;34mtmp\u001b[0m/\r\n",
      "-rw-rw-r-- 1 tpe-aa-04 tpe-aa-04 1768  八  24 11:56 UI_sample_code.ipynb\r\n"
     ]
    }
   ],
   "source": [
    "ls -l\n"
   ]
  },
  {
   "cell_type": "code",
   "execution_count": null,
   "metadata": {},
   "outputs": [],
   "source": []
  }
 ],
 "metadata": {
  "kernelspec": {
   "display_name": "Python 3",
   "language": "python",
   "name": "python3"
  },
  "language_info": {
   "codemirror_mode": {
    "name": "ipython",
    "version": 3
   },
   "file_extension": ".py",
   "mimetype": "text/x-python",
   "name": "python",
   "nbconvert_exporter": "python",
   "pygments_lexer": "ipython3",
   "version": "3.6.9"
  }
 },
 "nbformat": 4,
 "nbformat_minor": 5
}
